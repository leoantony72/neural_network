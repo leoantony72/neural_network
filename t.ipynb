{
 "cells": [
  {
   "cell_type": "code",
   "execution_count": 211,
   "metadata": {},
   "outputs": [],
   "source": [
    "# %matplotlib inline\n",
    "import numpy as np"
   ]
  },
  {
   "cell_type": "code",
   "execution_count": 212,
   "metadata": {},
   "outputs": [],
   "source": [
    "x = np.array(([3,5], [5,1], [10,2]), dtype=float)\n",
    "y = np.array(([75], [82], [93]), dtype=float)\n"
   ]
  },
  {
   "cell_type": "code",
   "execution_count": 213,
   "metadata": {},
   "outputs": [],
   "source": [
    "x = x/np.amax(x, axis=0)\n",
    "y = y/100\n"
   ]
  },
  {
   "cell_type": "code",
   "execution_count": 214,
   "metadata": {},
   "outputs": [],
   "source": [
    "# y"
   ]
  },
  {
   "cell_type": "code",
   "execution_count": 215,
   "metadata": {},
   "outputs": [],
   "source": [
    "# x.shape"
   ]
  },
  {
   "cell_type": "code",
   "execution_count": 216,
   "metadata": {},
   "outputs": [],
   "source": [
    "class Neural_Network(object):\n",
    "    def __init__(self):\n",
    "        self.inputLayerSize = 2\n",
    "        self.outputLayerSize=1\n",
    "        self.hiddenLayerSize=3\n",
    "\n",
    "        #weights\n",
    "        self.w1 = np.random.rand(self.inputLayerSize,self.hiddenLayerSize)\n",
    "        self.w2 = np.random.rand(self.hiddenLayerSize,self.outputLayerSize)\n",
    "\n",
    "        # print(self.w2)\n",
    "\n",
    "    def forward(self,x):\n",
    "        self.z2= np.dot(x,self.w1)\n",
    "        self.a2= self.sigmoid(self.z2)\n",
    "        self.z3 = np.dot(self.a2, self.w2)\n",
    "        yHat = self.sigmoid(self.z3)\n",
    "        return yHat\n",
    "            \n",
    "    def sigmoid(self, z):\n",
    "        #Apply sigmoid activation function to scalar, vector, or matrix\n",
    "        return 1/(1+np.exp(-z)) \n",
    "\n",
    "    def sigmoidPrime(self,z):\n",
    "        #Gradient of sigmoid\n",
    "        return np.exp(-z)/((1+np.exp(-z))**2)\n",
    "\n",
    "    def costFunction(self,x,y):\n",
    "        self.yhat = self.forward(x)\n",
    "        J=0.5*sum((y-self.yhat)**2)\n",
    "        return J\n",
    "\n",
    "    def costFunctionPrime(self, x, y):\n",
    "        #Compute derivative with respect to W and W2 for a given X and y:\n",
    "        self.yHat = self.forward(x)\n",
    "        \n",
    "        delta3 = np.multiply(-(y-self.yHat), self.sigmoidPrime(self.z3))\n",
    "        dJdW2 = np.dot(self.a2.T, delta3)\n",
    "        \n",
    "        delta2 = np.dot(delta3, self.w2.T)*self.sigmoidPrime(self.z2)\n",
    "        dJdW1 = np.dot(x.T, delta2)  \n",
    "        \n",
    "        return dJdW1, dJdW2\n",
    "      "
   ]
  },
  {
   "cell_type": "code",
   "execution_count": 217,
   "metadata": {},
   "outputs": [],
   "source": [
    "NN = Neural_Network()"
   ]
  },
  {
   "cell_type": "code",
   "execution_count": 218,
   "metadata": {},
   "outputs": [],
   "source": [
    "cost1 = NN.costFunction(x,y)"
   ]
  },
  {
   "cell_type": "code",
   "execution_count": 219,
   "metadata": {},
   "outputs": [
    {
     "data": {
      "text/plain": [
       "array([[0.70822612, 0.92149652, 0.66510626],\n",
       "       [0.91909985, 0.62325698, 0.54155126]])"
      ]
     },
     "execution_count": 219,
     "metadata": {},
     "output_type": "execute_result"
    }
   ],
   "source": [
    "NN.w1"
   ]
  },
  {
   "cell_type": "code",
   "execution_count": 220,
   "metadata": {},
   "outputs": [],
   "source": [
    "scalar = 3\n",
    "dJdW1, dJdW2 = NN.costFunctionPrime(x,y)\n",
    "NN.w1 = NN.w1 - scalar*dJdW1\n",
    "NN.w2 = NN.w2 - scalar*dJdW2\n",
    "cost2 = NN.costFunction(x, y)"
   ]
  },
  {
   "cell_type": "code",
   "execution_count": 221,
   "metadata": {},
   "outputs": [
    {
     "data": {
      "text/plain": [
       "array([[-0.0036103 , -0.00298965, -0.00736444],\n",
       "       [-0.00156905, -0.00131547, -0.0032269 ]])"
      ]
     },
     "execution_count": 221,
     "metadata": {},
     "output_type": "execute_result"
    }
   ],
   "source": [
    "dJdW1"
   ]
  },
  {
   "cell_type": "code",
   "execution_count": 223,
   "metadata": {},
   "outputs": [
    {
     "data": {
      "text/plain": [
       "array([[-0.01083089, -0.00896895, -0.02209333],\n",
       "       [-0.00470716, -0.00394642, -0.00968071]])"
      ]
     },
     "execution_count": 223,
     "metadata": {},
     "output_type": "execute_result"
    }
   ],
   "source": [
    "scalar*dJdW1"
   ]
  },
  {
   "cell_type": "code",
   "execution_count": 222,
   "metadata": {},
   "outputs": [
    {
     "name": "stdout",
     "output_type": "stream",
     "text": [
      "[0.0223257] [0.01157597]\n"
     ]
    },
    {
     "data": {
      "text/plain": [
       "array([[0.71905701, 0.93046547, 0.68719959],\n",
       "       [0.92380701, 0.62720341, 0.55123197]])"
      ]
     },
     "execution_count": 222,
     "metadata": {},
     "output_type": "execute_result"
    }
   ],
   "source": [
    "print(cost1,cost2)\n",
    "NN.w1"
   ]
  }
 ],
 "metadata": {
  "kernelspec": {
   "display_name": "Python 3",
   "language": "python",
   "name": "python3"
  },
  "language_info": {
   "codemirror_mode": {
    "name": "ipython",
    "version": 3
   },
   "file_extension": ".py",
   "mimetype": "text/x-python",
   "name": "python",
   "nbconvert_exporter": "python",
   "pygments_lexer": "ipython3",
   "version": "3.8.10"
  },
  "orig_nbformat": 4
 },
 "nbformat": 4,
 "nbformat_minor": 2
}
